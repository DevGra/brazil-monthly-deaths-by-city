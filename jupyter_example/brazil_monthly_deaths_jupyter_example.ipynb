{
 "cells": [
  {
   "cell_type": "markdown",
   "metadata": {},
   "source": [
    "# brazil_monthly_deaths - Jupyter Example"
   ]
  },
  {
   "cell_type": "markdown",
   "metadata": {},
   "source": [
    "## See the data"
   ]
  },
  {
   "cell_type": "markdown",
   "metadata": {},
   "source": [
    "First have a look on the data. The `data` variable is a pandas dataframe with data from 2015 to 2020."
   ]
  },
  {
   "cell_type": "code",
   "execution_count": 1,
   "metadata": {},
   "outputs": [
    {
     "data": {
      "text/html": [
       "<div>\n",
       "<style scoped>\n",
       "    .dataframe tbody tr th:only-of-type {\n",
       "        vertical-align: middle;\n",
       "    }\n",
       "\n",
       "    .dataframe tbody tr th {\n",
       "        vertical-align: top;\n",
       "    }\n",
       "\n",
       "    .dataframe thead th {\n",
       "        text-align: right;\n",
       "    }\n",
       "</style>\n",
       "<table border=\"1\" class=\"dataframe\">\n",
       "  <thead>\n",
       "    <tr style=\"text-align: right;\">\n",
       "      <th></th>\n",
       "      <th>city_id</th>\n",
       "      <th>year</th>\n",
       "      <th>month</th>\n",
       "      <th>region</th>\n",
       "      <th>state</th>\n",
       "      <th>city</th>\n",
       "      <th>deaths</th>\n",
       "    </tr>\n",
       "  </thead>\n",
       "  <tbody>\n",
       "    <tr>\n",
       "      <th>0</th>\n",
       "      <td>82280746</td>\n",
       "      <td>2015</td>\n",
       "      <td>1</td>\n",
       "      <td>North</td>\n",
       "      <td>Acre</td>\n",
       "      <td>Brasiléia</td>\n",
       "      <td>6</td>\n",
       "    </tr>\n",
       "    <tr>\n",
       "      <th>1</th>\n",
       "      <td>43868530</td>\n",
       "      <td>2015</td>\n",
       "      <td>1</td>\n",
       "      <td>North</td>\n",
       "      <td>Acre</td>\n",
       "      <td>Bujari</td>\n",
       "      <td>1</td>\n",
       "    </tr>\n",
       "    <tr>\n",
       "      <th>2</th>\n",
       "      <td>70178755</td>\n",
       "      <td>2015</td>\n",
       "      <td>1</td>\n",
       "      <td>North</td>\n",
       "      <td>Acre</td>\n",
       "      <td>Cruzeiro do Sul</td>\n",
       "      <td>38</td>\n",
       "    </tr>\n",
       "    <tr>\n",
       "      <th>3</th>\n",
       "      <td>69033674</td>\n",
       "      <td>2015</td>\n",
       "      <td>1</td>\n",
       "      <td>North</td>\n",
       "      <td>Acre</td>\n",
       "      <td>Epitaciolândia</td>\n",
       "      <td>3</td>\n",
       "    </tr>\n",
       "    <tr>\n",
       "      <th>4</th>\n",
       "      <td>19178699</td>\n",
       "      <td>2015</td>\n",
       "      <td>1</td>\n",
       "      <td>North</td>\n",
       "      <td>Acre</td>\n",
       "      <td>Feijó</td>\n",
       "      <td>8</td>\n",
       "    </tr>\n",
       "    <tr>\n",
       "      <th>...</th>\n",
       "      <td>...</td>\n",
       "      <td>...</td>\n",
       "      <td>...</td>\n",
       "      <td>...</td>\n",
       "      <td>...</td>\n",
       "      <td>...</td>\n",
       "      <td>...</td>\n",
       "    </tr>\n",
       "    <tr>\n",
       "      <th>225952</th>\n",
       "      <td>26419055</td>\n",
       "      <td>2020</td>\n",
       "      <td>5</td>\n",
       "      <td>Southeast</td>\n",
       "      <td>São Paulo</td>\n",
       "      <td>Zacarias</td>\n",
       "      <td>1</td>\n",
       "    </tr>\n",
       "    <tr>\n",
       "      <th>225953</th>\n",
       "      <td>69051168</td>\n",
       "      <td>2020</td>\n",
       "      <td>5</td>\n",
       "      <td>Southeast</td>\n",
       "      <td>São Paulo</td>\n",
       "      <td>Águas de Lindóia</td>\n",
       "      <td>6</td>\n",
       "    </tr>\n",
       "    <tr>\n",
       "      <th>225954</th>\n",
       "      <td>85750597</td>\n",
       "      <td>2020</td>\n",
       "      <td>5</td>\n",
       "      <td>Southeast</td>\n",
       "      <td>São Paulo</td>\n",
       "      <td>Álvares Florence</td>\n",
       "      <td>1</td>\n",
       "    </tr>\n",
       "    <tr>\n",
       "      <th>225955</th>\n",
       "      <td>54364031</td>\n",
       "      <td>2020</td>\n",
       "      <td>5</td>\n",
       "      <td>Southeast</td>\n",
       "      <td>São Paulo</td>\n",
       "      <td>Álvares Machado</td>\n",
       "      <td>12</td>\n",
       "    </tr>\n",
       "    <tr>\n",
       "      <th>225956</th>\n",
       "      <td>53696172</td>\n",
       "      <td>2020</td>\n",
       "      <td>5</td>\n",
       "      <td>Southeast</td>\n",
       "      <td>São Paulo</td>\n",
       "      <td>Álvaro de Carvalho</td>\n",
       "      <td>1</td>\n",
       "    </tr>\n",
       "  </tbody>\n",
       "</table>\n",
       "<p>225957 rows × 7 columns</p>\n",
       "</div>"
      ],
      "text/plain": [
       "         city_id  year  month     region      state                city  \\\n",
       "0       82280746  2015      1      North       Acre           Brasiléia   \n",
       "1       43868530  2015      1      North       Acre              Bujari   \n",
       "2       70178755  2015      1      North       Acre     Cruzeiro do Sul   \n",
       "3       69033674  2015      1      North       Acre      Epitaciolândia   \n",
       "4       19178699  2015      1      North       Acre               Feijó   \n",
       "...          ...   ...    ...        ...        ...                 ...   \n",
       "225952  26419055  2020      5  Southeast  São Paulo            Zacarias   \n",
       "225953  69051168  2020      5  Southeast  São Paulo    Águas de Lindóia   \n",
       "225954  85750597  2020      5  Southeast  São Paulo    Álvares Florence   \n",
       "225955  54364031  2020      5  Southeast  São Paulo     Álvares Machado   \n",
       "225956  53696172  2020      5  Southeast  São Paulo  Álvaro de Carvalho   \n",
       "\n",
       "        deaths  \n",
       "0            6  \n",
       "1            1  \n",
       "2           38  \n",
       "3            3  \n",
       "4            8  \n",
       "...        ...  \n",
       "225952       1  \n",
       "225953       6  \n",
       "225954       1  \n",
       "225955      12  \n",
       "225956       1  \n",
       "\n",
       "[225957 rows x 7 columns]"
      ]
     },
     "metadata": {},
     "output_type": "display_data"
    }
   ],
   "source": [
    "from brazil_monthly_deaths import data\n",
    "\n",
    "df = data\n",
    "display(df) # from 2015 to 2020"
   ]
  },
  {
   "cell_type": "markdown",
   "metadata": {},
   "source": [
    "## Get new data and update the old data"
   ]
  },
  {
   "cell_type": "markdown",
   "metadata": {},
   "source": [
    "Every day there are new records, so you should get the most recent data. Keep in mind that the official data have a **legal deadline of 13 days to go from one's death to the official records**.\n",
    "\n",
    ">Depending on your internet connection it may take up to 6 minutes for each month if you run for all states. Consider selecting only the states you want to work on."
   ]
  },
  {
   "cell_type": "code",
   "execution_count": 5,
   "metadata": {},
   "outputs": [],
   "source": [
    "from brazil_monthly_deaths import brazil_deaths, update_df\n",
    "\n",
    "# If you want to work get all data for the May 2020:\n",
    "# new_data = brazil_deaths(years=[2020], months=[5])\n",
    "\n",
    "# Select a single state for our example, running on 05/21/2020\n",
    "new_data = brazil_deaths(\n",
    "                years=[2020],\n",
    "                months=[5],\n",
    "                states=[\"Amazonas\"],\n",
    "                verbose=False,\n",
    "                save_csv=False)\n",
    "\n",
    "# update the lagging data provided by this package\n",
    "df = update_df(data, new_data)"
   ]
  },
  {
   "cell_type": "markdown",
   "metadata": {},
   "source": [
    "## Data exploration"
   ]
  },
  {
   "cell_type": "markdown",
   "metadata": {},
   "source": [
    "### Selecting the data"
   ]
  },
  {
   "cell_type": "code",
   "execution_count": 20,
   "metadata": {},
   "outputs": [],
   "source": [
    "manaus_data = df.loc[\n",
    "    (df['state'] == \"Amazonas\") &\n",
    "    (df['city'] == \"Manaus\") &\n",
    "    (df['month'] >= 2) &\n",
    "    (df['month'] <= 4)\n",
    "]"
   ]
  },
  {
   "cell_type": "markdown",
   "metadata": {},
   "source": [
    "### Plotting the data"
   ]
  },
  {
   "cell_type": "code",
   "execution_count": 50,
   "metadata": {
    "scrolled": false
   },
   "outputs": [
    {
     "data": {
      "image/png": "[encoded data removed]",
      "text/plain": [
       "<Figure size 640x480 with 1 Axes>"
      ]
     },
     "metadata": {},
     "output_type": "display_data"
    },
    {
     "data": {
      "text/plain": [
       "<ggplot: (309142406)>"
      ]
     },
     "execution_count": 50,
     "metadata": {},
     "output_type": "execute_result"
    }
   ],
   "source": [
    "import pandas as pd\n",
    "from plotnine import *\n",
    "\n",
    "# select only the variables used in the plot\n",
    "manaus_data = manaus_data[['year', 'month', 'deaths']]\n",
    "\n",
    "# transform month to category\n",
    "manaus_data['month'] = pd.Categorical(manaus_data['month'])\n",
    "\n",
    "# plot the data\n",
    "dodge_text = position_dodge(width=0.9)\n",
    "(\n",
    "    ggplot(manaus_data, aes(x='year', y='deaths', fill='month'))\n",
    "        + geom_col(stat='identity', position='dodge')\n",
    "        + ggtitle(\"Manaus deaths Feb-Apr, 2015-2020\")\n",
    "        + geom_text(aes(label='deaths'), position=dodge_text, size=8, va='bottom')\n",
    "        + theme_classic()\n",
    ")  "
   ]
  },
  {
   "cell_type": "code",
   "execution_count": null,
   "metadata": {},
   "outputs": [],
   "source": []
  }
 ],
 "metadata": {
  "kernelspec": {
   "display_name": "Python 3",
   "language": "python",
   "name": "python3"
  },
  "language_info": {
   "codemirror_mode": {
    "name": "ipython",
    "version": 3
   },
   "file_extension": ".py",
   "mimetype": "text/x-python",
   "name": "python",
   "nbconvert_exporter": "python",
   "pygments_lexer": "ipython3",
   "version": "3.7.0"
  }
 },
 "nbformat": 4,
 "nbformat_minor": 4
}
